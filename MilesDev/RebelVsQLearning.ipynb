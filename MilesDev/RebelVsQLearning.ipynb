{
 "cells": [
  {
   "cell_type": "markdown",
   "metadata": {},
   "source": [
    "## Rebel Vs QLearning"
   ]
  },
  {
   "cell_type": "code",
   "execution_count": 10,
   "metadata": {},
   "outputs": [
    {
     "ename": "ModuleNotFoundError",
     "evalue": "No module named 'pokerenv'",
     "output_type": "error",
     "traceback": [
      "\u001b[0;31m---------------------------------------------------------------------------\u001b[0m",
      "\u001b[0;31mModuleNotFoundError\u001b[0m                       Traceback (most recent call last)",
      "Cell \u001b[0;32mIn[10], line 1\u001b[0m\n\u001b[0;32m----> 1\u001b[0m \u001b[38;5;28;01mfrom\u001b[39;00m \u001b[38;5;21;01mQLEARNINGAGENT\u001b[39;00m \u001b[38;5;28;01mimport\u001b[39;00m QLearningAgent\n\u001b[1;32m      2\u001b[0m \u001b[38;5;28;01mfrom\u001b[39;00m \u001b[38;5;21;01mREBELAGENT\u001b[39;00m \u001b[38;5;28;01mimport\u001b[39;00m REBELAgent\n\u001b[1;32m      3\u001b[0m \u001b[38;5;28;01mfrom\u001b[39;00m \u001b[38;5;21;01mCREATEENVIORMENT\u001b[39;00m \u001b[38;5;28;01mimport\u001b[39;00m createEnviorment\n",
      "File \u001b[0;32m~/Documents/College/Fall 2024/rl/RegretfulTexasHoldEm_feat_MonteCarlo/MilesDev/QLEARNINGAGENT.py:1\u001b[0m\n\u001b[0;32m----> 1\u001b[0m \u001b[38;5;28;01mimport\u001b[39;00m \u001b[38;5;21;01mpokerenv\u001b[39;00m\u001b[38;5;21;01m.\u001b[39;00m\u001b[38;5;21;01mobs_indices\u001b[39;00m \u001b[38;5;28;01mas\u001b[39;00m \u001b[38;5;21;01mindices\u001b[39;00m\n\u001b[1;32m      2\u001b[0m \u001b[38;5;28;01mfrom\u001b[39;00m \u001b[38;5;21;01mpokerenv\u001b[39;00m\u001b[38;5;21;01m.\u001b[39;00m\u001b[38;5;21;01mtable\u001b[39;00m \u001b[38;5;28;01mimport\u001b[39;00m Table\n\u001b[1;32m      3\u001b[0m \u001b[38;5;28;01mfrom\u001b[39;00m \u001b[38;5;21;01mtreys\u001b[39;00m \u001b[38;5;28;01mimport\u001b[39;00m Deck, Evaluator, Card\n",
      "\u001b[0;31mModuleNotFoundError\u001b[0m: No module named 'pokerenv'"
     ]
    }
   ],
   "source": [
    "from QLEARNINGAGENT import QLearningAgent\n",
    "from REBELAGENT import REBELAgent\n",
    "from CREATEENVIORMENT import createEnviorment\n",
    "from LEARNINGLOOP import learningLoop\n",
    "from PLOTTING import plot_cumulative_winnings"
   ]
  },
  {
   "cell_type": "code",
   "execution_count": null,
   "metadata": {},
   "outputs": [],
   "source": [
    "active_players = 6\n",
    "agents = [QLearningAgent(), REBELAgent(num_players=6), QLearningAgent(), QLearningAgent(), QLearningAgent(), QLearningAgent()]\n",
    "player_names = {0: 'QLearning1', 1: 'Rebel', 2: 'QLearning2', 3:'QLearning3',4:'QLearning4',5:'QLearning5'} # Rest are defaulted to player3, player4...\n",
    "# Should we only log the 0th players (here TrackedAgent1) private cards to hand history files\n",
    "track_single_player = False\n",
    "# Bounds for randomizing player stack sizes in reset()\n",
    "low_stack_bbs = 499\n",
    "high_stack_bbs = 500\n",
    "hand_history_location = 'MilesHands/'\n",
    "invalid_action_penalty = 10"
   ]
  },
  {
   "cell_type": "code",
   "execution_count": null,
   "metadata": {},
   "outputs": [],
   "source": [
    "n_trials = 1\n",
    "n_iterations = 1000\n",
    "total_winnings = []\n",
    "for t in range(n_trials):\n",
    "    table = createEnviorment(active_players, agents, player_names, low_stack_bbs, high_stack_bbs, hand_history_location, invalid_action_penalty, track_single_player)\n",
    "    table.seed(t)\n",
    "    player_winnings = learningLoop(table, agents, active_players, n_iterations)\n",
    "    print(f\"Trial {t+1} completed\")\n",
    "    total_winnings.append(player_winnings)"
   ]
  },
  {
   "cell_type": "code",
   "execution_count": null,
   "metadata": {},
   "outputs": [],
   "source": [
    "RVQVDETRM = plot_cumulative_winnings(total_winnings, [\"Q Agent 1\", \"Rebel Agent\", \"Q Agent 2\", \"Q Agent 3\", \"Q Agent 4\", \"Q Agent 5\"], n_iterations)"
   ]
  }
 ],
 "metadata": {
  "kernelspec": {
   "display_name": "venv",
   "language": "python",
   "name": "python3"
  },
  "language_info": {
   "codemirror_mode": {
    "name": "ipython",
    "version": 3
   },
   "file_extension": ".py",
   "mimetype": "text/x-python",
   "name": "python",
   "nbconvert_exporter": "python",
   "pygments_lexer": "ipython3",
   "version": "3.12.5"
  }
 },
 "nbformat": 4,
 "nbformat_minor": 2
}
